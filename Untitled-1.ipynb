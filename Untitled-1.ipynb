{
 "cells": [
  {
   "cell_type": "code",
   "execution_count": null,
   "metadata": {},
   "outputs": [],
   "source": [
    "counter = 5\n",
    "while counter != 0:\n",
    "    print(\"Dentro del bucle.\", counter)\n",
    "    counter -= 1\n",
    "print(\"Fuera del bucle.\", counter)"
   ]
  },
  {
   "cell_type": "code",
   "execution_count": null,
   "metadata": {},
   "outputs": [],
   "source": [
    "counter = 5\n",
    "while counter:\n",
    "    print(\"Dentro del bucle.\", counter)\n",
    "    counter -= 1\n",
    "print(\"Fuera del bucle.\", counter)"
   ]
  },
  {
   "cell_type": "code",
   "execution_count": null,
   "metadata": {},
   "outputs": [],
   "source": []
  },
  {
   "cell_type": "code",
   "execution_count": null,
   "metadata": {},
   "outputs": [],
   "source": [
    "# Indicar al usuario que ingrese una palabra\n",
    "# y asignarlo a la variable user_word.\n",
    "user_word = input('Ingrese una palabra: ')\n",
    "user_word = user_word.upper()\n",
    "for letter in user_word:\n",
    "    if letter == 'A': continue\n",
    "    elif letter == 'E': continue\n",
    "    elif letter == 'I': continue\n",
    "    elif letter == 'O': continue\n",
    "    elif letter == 'U': continue\n",
    "    else:\n",
    "        print(letter)\n"
   ]
  },
  {
   "cell_type": "code",
   "execution_count": null,
   "metadata": {},
   "outputs": [],
   "source": [
    "# Indicar al usuario que ingrese una palabra\n",
    "# y asignarlo a la variable user_word.\n",
    "user_word = input('Ingrese una palabra: ')\n",
    "user_word = user_word.upper()\n",
    "for letter in user_word:\n",
    "    if letter == 'A': continue\n",
    "    elif letter == 'E': continue\n",
    "    elif letter == 'I': continue\n",
    "    elif letter == 'O': continue\n",
    "    elif letter == 'U': continue\n",
    "    else:\n",
    "        print(letter)"
   ]
  },
  {
   "cell_type": "code",
   "execution_count": null,
   "metadata": {},
   "outputs": [],
   "source": [
    "num_ingresado = int(input('Ingrese un numero '))\n",
    "if num_ingresado > 0:\n",
    "    c0 = num_ingresado\n",
    "while c0 != 1:\n",
    "    if c0 % 2 == 0:\n",
    "        c0= c0 / 2\n",
    "    elif c0 % 2 != 0:\n",
    "        c0 = 3 * c0 + 1\n",
    "else:\n",
    "    print('No cumple las condiciones')\n",
    "\n"
   ]
  },
  {
   "cell_type": "code",
   "execution_count": 1,
   "metadata": {},
   "outputs": [],
   "source": [
    "secret_number = 777\n",
    "\n",
    "print(\n",
    "\"\"\"\n",
    "+================================+\n",
    "| ¡Bienvenido a mi juego, muggle!|\n",
    "| Introduce un número entero     |\n",
    "| y adivina qué número he        |\n",
    "| elegido para ti.               |\n",
    "|¿Cuál es el número secreto?     |\n",
    "+================================+\n",
    "\"\"\")\n",
    "num_ingresado = int(input(\"Proba suerte cagon: \"))\n",
    "while num_ingresado != 777:\n",
    "    print(\"¡Ja, ja! ¡Estás atrapado en mi bucle!\")\n",
    "    num_ingresado = int(input(\"Segui probando nomas: \"))\n",
    "print(\"¡Bien hecho, muggle! Eres libre ahora.\")\n"
   ]
  }
 ],
 "metadata": {
  "kernelspec": {
   "display_name": "Python 3",
   "language": "python",
   "name": "python3"
  },
  "language_info": {
   "codemirror_mode": {
    "name": "ipython",
    "version": 3
   },
   "file_extension": ".py",
   "mimetype": "text/x-python",
   "name": "python",
   "nbconvert_exporter": "python",
   "pygments_lexer": "ipython3",
   "version": "3.12.2"
  }
 },
 "nbformat": 4,
 "nbformat_minor": 2
}
